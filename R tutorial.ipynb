{
 "cells": [
  {
   "cell_type": "code",
   "execution_count": 1,
   "metadata": {
    "collapsed": true
   },
   "outputs": [],
   "source": [
    "import csv\n",
    "import pandas as pd\n",
    "import numpy as np\n",
    "import sklearn\n",
    "from sklearn.model_selection import GridSearchCV\n",
    "\n",
    "import seaborn as sns\n",
    "import matplotlib.pyplot as plt\n",
    "%matplotlib inline\n",
    "plt.style.use('seaborn')\n",
    "\n",
    "from PIL import Image\n",
    "import pickle\n",
    "import math"
   ]
  },
  {
   "cell_type": "code",
   "execution_count": 20,
   "metadata": {
    "collapsed": true
   },
   "outputs": [],
   "source": [
    "train_orig = pd.read_csv('train.csv')\n",
    "test = pd.read_csv('test.csv')"
   ]
  },
  {
   "cell_type": "code",
   "execution_count": 3,
   "metadata": {},
   "outputs": [
    {
     "data": {
      "text/html": [
       "<div>\n",
       "<style>\n",
       "    .dataframe thead tr:only-child th {\n",
       "        text-align: right;\n",
       "    }\n",
       "\n",
       "    .dataframe thead th {\n",
       "        text-align: left;\n",
       "    }\n",
       "\n",
       "    .dataframe tbody tr th {\n",
       "        vertical-align: top;\n",
       "    }\n",
       "</style>\n",
       "<table border=\"1\" class=\"dataframe\">\n",
       "  <thead>\n",
       "    <tr style=\"text-align: right;\">\n",
       "      <th></th>\n",
       "      <th>left_eye_center_x</th>\n",
       "      <th>left_eye_center_y</th>\n",
       "      <th>right_eye_center_x</th>\n",
       "      <th>right_eye_center_y</th>\n",
       "      <th>left_eye_inner_corner_x</th>\n",
       "      <th>left_eye_inner_corner_y</th>\n",
       "      <th>left_eye_outer_corner_x</th>\n",
       "      <th>left_eye_outer_corner_y</th>\n",
       "      <th>right_eye_inner_corner_x</th>\n",
       "      <th>right_eye_inner_corner_y</th>\n",
       "      <th>...</th>\n",
       "      <th>nose_tip_x</th>\n",
       "      <th>nose_tip_y</th>\n",
       "      <th>mouth_left_corner_x</th>\n",
       "      <th>mouth_left_corner_y</th>\n",
       "      <th>mouth_right_corner_x</th>\n",
       "      <th>mouth_right_corner_y</th>\n",
       "      <th>mouth_center_top_lip_x</th>\n",
       "      <th>mouth_center_top_lip_y</th>\n",
       "      <th>mouth_center_bottom_lip_x</th>\n",
       "      <th>mouth_center_bottom_lip_y</th>\n",
       "    </tr>\n",
       "  </thead>\n",
       "  <tbody>\n",
       "    <tr>\n",
       "      <th>count</th>\n",
       "      <td>7039.000000</td>\n",
       "      <td>7039.000000</td>\n",
       "      <td>7036.000000</td>\n",
       "      <td>7036.000000</td>\n",
       "      <td>2271.000000</td>\n",
       "      <td>2271.000000</td>\n",
       "      <td>2267.000000</td>\n",
       "      <td>2267.000000</td>\n",
       "      <td>2268.000000</td>\n",
       "      <td>2268.000000</td>\n",
       "      <td>...</td>\n",
       "      <td>7049.000000</td>\n",
       "      <td>7049.000000</td>\n",
       "      <td>2269.000000</td>\n",
       "      <td>2269.000000</td>\n",
       "      <td>2270.000000</td>\n",
       "      <td>2270.000000</td>\n",
       "      <td>2275.000000</td>\n",
       "      <td>2275.000000</td>\n",
       "      <td>7016.000000</td>\n",
       "      <td>7016.000000</td>\n",
       "    </tr>\n",
       "    <tr>\n",
       "      <th>mean</th>\n",
       "      <td>66.359021</td>\n",
       "      <td>37.651234</td>\n",
       "      <td>30.306102</td>\n",
       "      <td>37.976943</td>\n",
       "      <td>59.159339</td>\n",
       "      <td>37.944752</td>\n",
       "      <td>73.330478</td>\n",
       "      <td>37.707008</td>\n",
       "      <td>36.652607</td>\n",
       "      <td>37.989902</td>\n",
       "      <td>...</td>\n",
       "      <td>48.374186</td>\n",
       "      <td>62.715884</td>\n",
       "      <td>63.285735</td>\n",
       "      <td>75.970714</td>\n",
       "      <td>32.900404</td>\n",
       "      <td>76.179768</td>\n",
       "      <td>47.975412</td>\n",
       "      <td>72.919443</td>\n",
       "      <td>48.569472</td>\n",
       "      <td>78.970146</td>\n",
       "    </tr>\n",
       "    <tr>\n",
       "      <th>std</th>\n",
       "      <td>3.448233</td>\n",
       "      <td>3.152926</td>\n",
       "      <td>3.083230</td>\n",
       "      <td>3.033621</td>\n",
       "      <td>2.690354</td>\n",
       "      <td>2.307332</td>\n",
       "      <td>3.405852</td>\n",
       "      <td>2.881438</td>\n",
       "      <td>2.350268</td>\n",
       "      <td>2.311907</td>\n",
       "      <td>...</td>\n",
       "      <td>4.280038</td>\n",
       "      <td>5.720567</td>\n",
       "      <td>4.079063</td>\n",
       "      <td>4.579724</td>\n",
       "      <td>3.964552</td>\n",
       "      <td>4.417814</td>\n",
       "      <td>3.323060</td>\n",
       "      <td>5.222500</td>\n",
       "      <td>4.269961</td>\n",
       "      <td>5.407844</td>\n",
       "    </tr>\n",
       "    <tr>\n",
       "      <th>min</th>\n",
       "      <td>22.763345</td>\n",
       "      <td>1.616512</td>\n",
       "      <td>0.686592</td>\n",
       "      <td>4.091264</td>\n",
       "      <td>19.064954</td>\n",
       "      <td>27.190098</td>\n",
       "      <td>27.571879</td>\n",
       "      <td>26.250023</td>\n",
       "      <td>5.751046</td>\n",
       "      <td>26.250023</td>\n",
       "      <td>...</td>\n",
       "      <td>12.944699</td>\n",
       "      <td>17.932414</td>\n",
       "      <td>22.923362</td>\n",
       "      <td>57.023258</td>\n",
       "      <td>2.245766</td>\n",
       "      <td>56.690208</td>\n",
       "      <td>12.605173</td>\n",
       "      <td>56.719043</td>\n",
       "      <td>12.536477</td>\n",
       "      <td>25.850503</td>\n",
       "    </tr>\n",
       "    <tr>\n",
       "      <th>25%</th>\n",
       "      <td>65.082895</td>\n",
       "      <td>35.900451</td>\n",
       "      <td>28.783339</td>\n",
       "      <td>36.327681</td>\n",
       "      <td>58.039339</td>\n",
       "      <td>36.626283</td>\n",
       "      <td>71.716503</td>\n",
       "      <td>36.085523</td>\n",
       "      <td>35.506126</td>\n",
       "      <td>36.766783</td>\n",
       "      <td>...</td>\n",
       "      <td>46.602370</td>\n",
       "      <td>59.292697</td>\n",
       "      <td>61.257143</td>\n",
       "      <td>72.875707</td>\n",
       "      <td>30.797646</td>\n",
       "      <td>73.256472</td>\n",
       "      <td>46.494571</td>\n",
       "      <td>69.396748</td>\n",
       "      <td>46.573703</td>\n",
       "      <td>75.549715</td>\n",
       "    </tr>\n",
       "    <tr>\n",
       "      <th>50%</th>\n",
       "      <td>66.497566</td>\n",
       "      <td>37.528055</td>\n",
       "      <td>30.251378</td>\n",
       "      <td>37.813273</td>\n",
       "      <td>59.304615</td>\n",
       "      <td>37.878040</td>\n",
       "      <td>73.247824</td>\n",
       "      <td>37.639015</td>\n",
       "      <td>36.651562</td>\n",
       "      <td>37.944075</td>\n",
       "      <td>...</td>\n",
       "      <td>48.424713</td>\n",
       "      <td>63.451421</td>\n",
       "      <td>63.178286</td>\n",
       "      <td>75.778689</td>\n",
       "      <td>32.982305</td>\n",
       "      <td>76.000592</td>\n",
       "      <td>47.905490</td>\n",
       "      <td>72.605173</td>\n",
       "      <td>48.594978</td>\n",
       "      <td>78.696326</td>\n",
       "    </tr>\n",
       "    <tr>\n",
       "      <th>75%</th>\n",
       "      <td>68.024752</td>\n",
       "      <td>39.258449</td>\n",
       "      <td>31.768334</td>\n",
       "      <td>39.566729</td>\n",
       "      <td>60.519810</td>\n",
       "      <td>39.260348</td>\n",
       "      <td>75.015645</td>\n",
       "      <td>39.373489</td>\n",
       "      <td>37.753571</td>\n",
       "      <td>39.192917</td>\n",
       "      <td>...</td>\n",
       "      <td>50.330437</td>\n",
       "      <td>66.492686</td>\n",
       "      <td>65.376243</td>\n",
       "      <td>78.879123</td>\n",
       "      <td>35.101302</td>\n",
       "      <td>78.956357</td>\n",
       "      <td>49.296488</td>\n",
       "      <td>76.221644</td>\n",
       "      <td>50.677631</td>\n",
       "      <td>82.233993</td>\n",
       "    </tr>\n",
       "    <tr>\n",
       "      <th>max</th>\n",
       "      <td>94.689280</td>\n",
       "      <td>80.502649</td>\n",
       "      <td>85.039381</td>\n",
       "      <td>81.270911</td>\n",
       "      <td>84.440991</td>\n",
       "      <td>66.562559</td>\n",
       "      <td>95.258090</td>\n",
       "      <td>64.618230</td>\n",
       "      <td>70.714966</td>\n",
       "      <td>69.808803</td>\n",
       "      <td>...</td>\n",
       "      <td>89.438592</td>\n",
       "      <td>95.935644</td>\n",
       "      <td>84.767123</td>\n",
       "      <td>94.673637</td>\n",
       "      <td>74.017993</td>\n",
       "      <td>95.510678</td>\n",
       "      <td>83.989082</td>\n",
       "      <td>94.548359</td>\n",
       "      <td>89.438592</td>\n",
       "      <td>95.808983</td>\n",
       "    </tr>\n",
       "  </tbody>\n",
       "</table>\n",
       "<p>8 rows × 30 columns</p>\n",
       "</div>"
      ],
      "text/plain": [
       "       left_eye_center_x  left_eye_center_y  right_eye_center_x  \\\n",
       "count        7039.000000        7039.000000         7036.000000   \n",
       "mean           66.359021          37.651234           30.306102   \n",
       "std             3.448233           3.152926            3.083230   \n",
       "min            22.763345           1.616512            0.686592   \n",
       "25%            65.082895          35.900451           28.783339   \n",
       "50%            66.497566          37.528055           30.251378   \n",
       "75%            68.024752          39.258449           31.768334   \n",
       "max            94.689280          80.502649           85.039381   \n",
       "\n",
       "       right_eye_center_y  left_eye_inner_corner_x  left_eye_inner_corner_y  \\\n",
       "count         7036.000000              2271.000000              2271.000000   \n",
       "mean            37.976943                59.159339                37.944752   \n",
       "std              3.033621                 2.690354                 2.307332   \n",
       "min              4.091264                19.064954                27.190098   \n",
       "25%             36.327681                58.039339                36.626283   \n",
       "50%             37.813273                59.304615                37.878040   \n",
       "75%             39.566729                60.519810                39.260348   \n",
       "max             81.270911                84.440991                66.562559   \n",
       "\n",
       "       left_eye_outer_corner_x  left_eye_outer_corner_y  \\\n",
       "count              2267.000000              2267.000000   \n",
       "mean                 73.330478                37.707008   \n",
       "std                   3.405852                 2.881438   \n",
       "min                  27.571879                26.250023   \n",
       "25%                  71.716503                36.085523   \n",
       "50%                  73.247824                37.639015   \n",
       "75%                  75.015645                39.373489   \n",
       "max                  95.258090                64.618230   \n",
       "\n",
       "       right_eye_inner_corner_x  right_eye_inner_corner_y  \\\n",
       "count               2268.000000               2268.000000   \n",
       "mean                  36.652607                 37.989902   \n",
       "std                    2.350268                  2.311907   \n",
       "min                    5.751046                 26.250023   \n",
       "25%                   35.506126                 36.766783   \n",
       "50%                   36.651562                 37.944075   \n",
       "75%                   37.753571                 39.192917   \n",
       "max                   70.714966                 69.808803   \n",
       "\n",
       "                 ...               nose_tip_x   nose_tip_y  \\\n",
       "count            ...              7049.000000  7049.000000   \n",
       "mean             ...                48.374186    62.715884   \n",
       "std              ...                 4.280038     5.720567   \n",
       "min              ...                12.944699    17.932414   \n",
       "25%              ...                46.602370    59.292697   \n",
       "50%              ...                48.424713    63.451421   \n",
       "75%              ...                50.330437    66.492686   \n",
       "max              ...                89.438592    95.935644   \n",
       "\n",
       "       mouth_left_corner_x  mouth_left_corner_y  mouth_right_corner_x  \\\n",
       "count          2269.000000          2269.000000           2270.000000   \n",
       "mean             63.285735            75.970714             32.900404   \n",
       "std               4.079063             4.579724              3.964552   \n",
       "min              22.923362            57.023258              2.245766   \n",
       "25%              61.257143            72.875707             30.797646   \n",
       "50%              63.178286            75.778689             32.982305   \n",
       "75%              65.376243            78.879123             35.101302   \n",
       "max              84.767123            94.673637             74.017993   \n",
       "\n",
       "       mouth_right_corner_y  mouth_center_top_lip_x  mouth_center_top_lip_y  \\\n",
       "count           2270.000000             2275.000000             2275.000000   \n",
       "mean              76.179768               47.975412               72.919443   \n",
       "std                4.417814                3.323060                5.222500   \n",
       "min               56.690208               12.605173               56.719043   \n",
       "25%               73.256472               46.494571               69.396748   \n",
       "50%               76.000592               47.905490               72.605173   \n",
       "75%               78.956357               49.296488               76.221644   \n",
       "max               95.510678               83.989082               94.548359   \n",
       "\n",
       "       mouth_center_bottom_lip_x  mouth_center_bottom_lip_y  \n",
       "count                7016.000000                7016.000000  \n",
       "mean                   48.569472                  78.970146  \n",
       "std                     4.269961                   5.407844  \n",
       "min                    12.536477                  25.850503  \n",
       "25%                    46.573703                  75.549715  \n",
       "50%                    48.594978                  78.696326  \n",
       "75%                    50.677631                  82.233993  \n",
       "max                    89.438592                  95.808983  \n",
       "\n",
       "[8 rows x 30 columns]"
      ]
     },
     "execution_count": 3,
     "metadata": {},
     "output_type": "execute_result"
    }
   ],
   "source": [
    "train_orig.describe()"
   ]
  },
  {
   "cell_type": "code",
   "execution_count": 21,
   "metadata": {},
   "outputs": [
    {
     "name": "stdout",
     "output_type": "stream",
     "text": [
      "9216\n"
     ]
    }
   ],
   "source": [
    "print(len(train_orig['Image'][1].split(' ')))\n",
    "# convert img col into 96*96 array\n",
    "def reshape_image(image):\n",
    "    image = image.split(' ')\n",
    "    img_to_int = np.vectorize(int)\n",
    "    image = img_to_int(image)\n",
    "    return np.reshape(image, (96,96))\n",
    "\n",
    "train_orig['Image'] = train_orig['Image'].apply(reshape_image)\n",
    "test['Image'] = test['Image'].apply(reshape_image)"
   ]
  },
  {
   "cell_type": "code",
   "execution_count": 5,
   "metadata": {},
   "outputs": [
    {
     "data": {
      "image/png": "[encoded data removed]",
      "text/plain": [
       "<matplotlib.figure.Figure at 0x1f9911c4f98>"
      ]
     },
     "metadata": {},
     "output_type": "display_data"
    }
   ],
   "source": [
    "im = Image.fromarray(train_orig['Image'][1], mode='I')\n",
    "plt.figure(figsize=(3,3))\n",
    "plt.imshow(im)\n",
    "plt.grid(False)"
   ]
  },
  {
   "cell_type": "code",
   "execution_count": 6,
   "metadata": {},
   "outputs": [],
   "source": [
    "#num missing for each col\n",
    "# train.isnull().sum()\n",
    "\n",
    "#split into train and validation\n",
    "from sklearn.model_selection import train_test_split\n",
    "train, validation = train_test_split(train_orig, test_size=0.2, random_state=888)\n",
    "\n",
    "# find mean of each keypoint's coords across train set\n",
    "keypoint_coord_means_train = round(train.iloc[:, 0:30].mean(axis=0, skipna=True))"
   ]
  },
  {
   "cell_type": "code",
   "execution_count": 7,
   "metadata": {},
   "outputs": [
    {
     "data": {
      "text/plain": [
       "3.8765174652537375"
      ]
     },
     "execution_count": 7,
     "metadata": {},
     "output_type": "execute_result"
    }
   ],
   "source": [
    "# using mean as prediction\n",
    "# pd.DataFrame(keypoint_coord_means_train.values.reshape((1,30)), columns=keypoint_coord_means_train.index)\n",
    "y_true = pd.Series()\n",
    "y_pred = pd.Series()\n",
    "for colname in validation.columns[0:30]:\n",
    "    colname_y_true = validation.loc[~pd.isnull(validation[colname]), colname]\n",
    "    y_true = y_true.append(colname_y_true)\n",
    "    colname_y_pred = keypoint_coord_means_train[colname].repeat(len(colname_y_true))\n",
    "    y_pred = y_pred.append(pd.Series(colname_y_pred))\n",
    "    \n",
    "# validation set pred error\n",
    "from sklearn.metrics import mean_squared_error\n",
    "math.sqrt(mean_squared_error(y_true, y_pred))"
   ]
  },
  {
   "cell_type": "code",
   "execution_count": 8,
   "metadata": {
    "collapsed": true
   },
   "outputs": [],
   "source": [
    "keypoints = ['left_eye_center',\n",
    " 'left_eye_inner_corner',\n",
    " 'left_eye_outer_corner',\n",
    " 'left_eyebrow_inner_end',\n",
    " 'left_eyebrow_outer_end',\n",
    " 'mouth_center_bottom_lip',\n",
    " 'mouth_center_top_lip',\n",
    " 'mouth_left_corner',\n",
    " 'mouth_right_corner',\n",
    " 'nose_tip',\n",
    " 'right_eye_center',\n",
    " 'right_eye_inner_corner',\n",
    " 'right_eye_outer_corner',\n",
    " 'right_eyebrow_inner_end',\n",
    " 'right_eyebrow_outer_end']\n",
    "\n",
    "keypoints_expanded = []\n",
    "for keypoint in keypoints:\n",
    "    keypoints_expanded.extend([keypoint + '_x', keypoint + '_y'])"
   ]
  },
  {
   "cell_type": "code",
   "execution_count": 9,
   "metadata": {},
   "outputs": [],
   "source": [
    "# get all keypoint patches of all images\n",
    "patch_size = 10\n",
    "IMG_SIZE = len(train['Image'][0])\n",
    "\n",
    "# find patches for given keypoints. If invalid patch, return np.nan\n",
    "def find_patches_all_keypoints(row, keypoints, patch_size):\n",
    "    patches = pd.Series(index=keypoints, dtype=object)\n",
    "    for keypoint in keypoints:\n",
    "        patches[keypoint] = find_patch_single_keypoint(row, keypoint, patch_size)\n",
    "    return patches\n",
    "\n",
    "def find_patch_single_keypoint(row, keypoint, patch_size):\n",
    "    is_valid_patch, patch_boundary_coords = find_patch_boundary_coords(row, keypoint, patch_size)\n",
    "    if is_valid_patch:\n",
    "        x_left, x_right, y_top, y_bottom = patch_boundary_coords\n",
    "        return row['Image'][y_top:y_bottom+1 , x_left:x_right+1]\n",
    "    else:\n",
    "        return np.nan\n",
    "\n",
    "def find_patch_boundary_coords(row, keypoint, patch_size):\n",
    "    center_x_coord = row[keypoint + '_x']\n",
    "    center_y_coord = row[keypoint + '_y']\n",
    "\n",
    "    # check that coords exist\n",
    "    if np.isnan(center_x_coord) or np.isnan(center_y_coord):\n",
    "        return False, (np.nan, np.nan, np.nan, np.nan)\n",
    "    \n",
    "    # get coords of 4 corners (inclusive)\n",
    "    x_left = round(center_x_coord - patch_size)\n",
    "    x_right = round(center_x_coord + patch_size)\n",
    "    y_top = round(center_y_coord - patch_size)\n",
    "    y_bottom = round(center_y_coord + patch_size)\n",
    "    # check that patch is valid (coords within boundaries of image)\n",
    "    if x_left>=0 and y_top>=0 and x_right<IMG_SIZE and y_bottom<IMG_SIZE:\n",
    "        return True, (x_left, x_right, y_top, y_bottom)\n",
    "    else:\n",
    "        return False, (np.nan, np.nan, np.nan, np.nan)"
   ]
  },
  {
   "cell_type": "code",
   "execution_count": 10,
   "metadata": {},
   "outputs": [],
   "source": [
    "# find means of all keypoints' patch\n",
    "def find_all_keypoints_patches_means(df, keypoints, patch_size):\n",
    "    all_keypoints_patches = df.apply(find_patches_all_keypoints, keypoints=keypoints, patch_size=10, axis=1)\n",
    "    keypoint_patch_means = {}\n",
    "    for keypoint in keypoints:\n",
    "        keypoint_patch_means[keypoint] = np.mean(all_keypoints_patches[keypoint])\n",
    "    return keypoint_patch_means\n",
    "\n",
    "all_keypoints_patches_means_train = find_all_keypoints_patches_means(train, keypoints, patch_size=10)"
   ]
  },
  {
   "cell_type": "code",
   "execution_count": 12,
   "metadata": {},
   "outputs": [
    {
     "data": {
      "image/png": "[encoded data removed]",
      "text/plain": [
       "<matplotlib.figure.Figure at 0x1f9b1509e48>"
      ]
     },
     "metadata": {},
     "output_type": "display_data"
    }
   ],
   "source": [
    "# show means of all keypoints\n",
    "def display_keypoints_means(keypoint_patch_means, keypoints):\n",
    "    fig = plt.figure(figsize=(15,10))\n",
    "    for i, keypoint in enumerate(keypoints):\n",
    "        ax = fig.add_subplot(3, 5, i+1)\n",
    "        img = Image.fromarray(keypoint_patch_means[keypoint])\n",
    "        ax.imshow(img)\n",
    "        ax.grid(False)\n",
    "        ax.set(title=keypoint)\n",
    "display_keypoints_means(all_keypoints_patches_means_train, keypoints)"
   ]
  },
  {
   "cell_type": "code",
   "execution_count": null,
   "metadata": {},
   "outputs": [],
   "source": []
  },
  {
   "cell_type": "code",
   "execution_count": 14,
   "metadata": {},
   "outputs": [],
   "source": [
    "# note: it's currently assumed that searches will result in valid coords for all keypoints\n",
    "search_size = 2\n",
    "\n",
    "def find_image_all_keypoints_best_coord(image, keypoints, keypoint_coord_means, keypoint_patch_means, search_size, patch_size):\n",
    "    patches = pd.Series(index=keypoints_expanded, dtype=object)\n",
    "    for keypoint in keypoints:\n",
    "        best_coords = find_keypoint_best_coord(image, keypoint, keypoint_coord_means[keypoint+'_x'], keypoint_coord_means[keypoint+'_y'], keypoint_patch_means[keypoint], search_size, patch_size)\n",
    "        patches[keypoint + '_x'] = best_coords[0]\n",
    "        patches[keypoint + '_y'] = best_coords[1]\n",
    "    return patches\n",
    "\n",
    "def find_keypoint_best_coord(image, keypoint, coord_means_x, coord_means_y, patch_means, search_size, patch_size):\n",
    "    curr_best_coord_x = 0\n",
    "    curr_best_coord_y = 0\n",
    "    curr_best_corr = -math.inf\n",
    "    for delta_x in range(-search_size, search_size+1):\n",
    "        for delta_y in range(-search_size, search_size+1):\n",
    "            x_left = int(round(coord_means_x + delta_x - patch_size))\n",
    "            x_right = int(round(coord_means_x + delta_x + patch_size))\n",
    "            y_top = int(round(coord_means_y + delta_y - patch_size))\n",
    "            y_bottom = int(round(coord_means_y + delta_y + patch_size))\n",
    "            \n",
    "            patch_curr = image[y_top:y_bottom+1 , x_left:x_right+1]\n",
    "            curr_patch_corr = np.corrcoef(patch_curr.flatten(), patch_means.flatten())[0][1]\n",
    "            if curr_patch_corr > curr_best_corr:\n",
    "                curr_best_corr = curr_patch_corr\n",
    "                curr_best_coord_x = coord_means_x + delta_x\n",
    "                curr_best_coord_y = coord_means_y + delta_y\n",
    "    return (curr_best_coord_x , curr_best_coord_y)\n",
    "\n",
    "\n",
    "validation_pred = validation['Image'].apply(find_image_all_keypoints_best_coord, keypoints=keypoints, keypoint_coord_means=keypoint_coord_means_train, keypoint_patch_means=all_keypoints_patches_means_train, search_size=search_size, patch_size=patch_size)\n"
   ]
  },
  {
   "cell_type": "code",
   "execution_count": null,
   "metadata": {},
   "outputs": [],
   "source": []
  },
  {
   "cell_type": "code",
   "execution_count": 15,
   "metadata": {},
   "outputs": [
    {
     "name": "stdout",
     "output_type": "stream",
     "text": [
      "rmse: 3.695002634432288\n"
     ]
    }
   ],
   "source": [
    "actual_validation_reshaped = []\n",
    "pred_validation_reshaped = []\n",
    "for idx in validation.index:\n",
    "    curr_actual_validation_row = validation.drop(['Image'], axis=1, inplace=False, ).loc[idx, :]\n",
    "    curr_pred_validation_row = validation_pred.loc[idx, :]\n",
    "    for keypoint in curr_actual_validation_row.index:\n",
    "        if not np.isnan(curr_actual_validation_row[keypoint]):\n",
    "            actual_validation_reshaped.append(curr_actual_validation_row[keypoint])\n",
    "            pred_validation_reshaped.append(curr_pred_validation_row[keypoint])\n",
    "\n",
    "rmse_validation = math.sqrt(mean_squared_error(actual_validation_reshaped, pred_validation_reshaped))\n",
    "print('rmse: {}'.format(rmse_validation))"
   ]
  },
  {
   "cell_type": "code",
   "execution_count": null,
   "metadata": {},
   "outputs": [],
   "source": []
  },
  {
   "cell_type": "code",
   "execution_count": 16,
   "metadata": {},
   "outputs": [],
   "source": [
    "id_lookup_table = pd.read_csv('IdLookupTable.csv')\n",
    "# id_lookup_table"
   ]
  },
  {
   "cell_type": "code",
   "execution_count": 22,
   "metadata": {},
   "outputs": [
    {
     "data": {
      "image/png": "[encoded data removed]",
      "text/plain": [
       "<matplotlib.figure.Figure at 0x1f9912205f8>"
      ]
     },
     "metadata": {},
     "output_type": "display_data"
    }
   ],
   "source": [
    "keypoint_coord_means_train_orig = round(train_orig.iloc[:, 0:30].mean(axis=0, skipna=True))\n",
    "all_keypoints_patches_means_train_orig = find_all_keypoints_patches_means(train, keypoints, patch_size=10)\n",
    "display_keypoints_means(all_keypoints_patches_means_train_orig, keypoints)\n",
    "test_pred = test['Image'].apply(find_image_all_keypoints_best_coord, keypoints=keypoints, keypoint_coord_means=keypoint_coord_means_train_orig, keypoint_patch_means=all_keypoints_patches_means_train_orig, search_size=search_size, patch_size=patch_size)\n",
    "test_pred['ImageId'] = test['ImageId']\n",
    "test_pred.set_index('ImageId', drop=True, inplace=True)"
   ]
  },
  {
   "cell_type": "code",
   "execution_count": 52,
   "metadata": {},
   "outputs": [],
   "source": [
    "def find_pred_given_id_row(row, test_pred):\n",
    "    return test_pred.loc[row['ImageId'], row['FeatureName']]\n",
    "\n",
    "test_results_for_submission = pd.DataFrame(id_lookup_table['RowId'], columns=['RowId'])\n",
    "test_results_for_submission['Location'] = id_lookup_table.apply(find_pred_given_id_row, test_pred=test_pred, axis=1)"
   ]
  },
  {
   "cell_type": "code",
   "execution_count": 55,
   "metadata": {},
   "outputs": [],
   "source": [
    "test_results_for_submission.to_csv('submission_patch_search_method.csv', index=False)"
   ]
  },
  {
   "cell_type": "code",
   "execution_count": null,
   "metadata": {},
   "outputs": [],
   "source": []
  },
  {
   "cell_type": "code",
   "execution_count": null,
   "metadata": {},
   "outputs": [],
   "source": []
  },
  {
   "cell_type": "code",
   "execution_count": null,
   "metadata": {
    "collapsed": true
   },
   "outputs": [],
   "source": []
  },
  {
   "cell_type": "code",
   "execution_count": null,
   "metadata": {
    "collapsed": true
   },
   "outputs": [],
   "source": []
  }
 ],
 "metadata": {
  "kernelspec": {
   "display_name": "Python [conda env:defaultenv]",
   "language": "python",
   "name": "conda-env-defaultenv-py"
  },
  "language_info": {
   "codemirror_mode": {
    "name": "ipython",
    "version": 3
   },
   "file_extension": ".py",
   "mimetype": "text/x-python",
   "name": "python",
   "nbconvert_exporter": "python",
   "pygments_lexer": "ipython3",
   "version": "3.6.3"
  }
 },
 "nbformat": 4,
 "nbformat_minor": 2
}
